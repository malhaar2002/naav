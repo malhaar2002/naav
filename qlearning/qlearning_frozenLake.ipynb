{
 "cells": [
  {
   "cell_type": "code",
   "execution_count": 17,
   "metadata": {},
   "outputs": [],
   "source": [
    "import numpy as np\n",
    "import gym\n",
    "import random\n",
    "import time\n",
    "from IPython.display import clear_output\n",
    "import matplotlib.pyplot as plt"
   ]
  },
  {
   "cell_type": "code",
   "execution_count": 18,
   "metadata": {},
   "outputs": [],
   "source": [
    "env = gym.make('FrozenLake-v1', render_mode='ansi')\n",
    "\n",
    "action_space_size = env.action_space.n\n",
    "state_space_size = env.observation_space.n"
   ]
  },
  {
   "cell_type": "code",
   "execution_count": 19,
   "metadata": {},
   "outputs": [],
   "source": [
    "# Initialize parameters\n",
    "q_table = np.zeros((state_space_size, action_space_size))\n",
    "num_episodes = 10000\n",
    "max_steps_per_episode = 100\n",
    "learning_rate = 0.1\n",
    "discount_rate = 0.99\n",
    "exploration_rate = 1\n",
    "max_exploration_rate = 1\n",
    "min_exploration_rate = 0.01\n",
    "exploration_decay_rate = 0.001\n",
    "\n",
    "rewards_all_episodes = []"
   ]
  },
  {
   "cell_type": "code",
   "execution_count": 20,
   "metadata": {},
   "outputs": [],
   "source": [
    "for episode in range(num_episodes):\n",
    "    # initialize new episode params\n",
    "    state = env.reset()[0]\n",
    "    done = False\n",
    "    rewards_current_episode = 0\n",
    "\n",
    "    for step in range(max_steps_per_episode):\n",
    "\n",
    "        # exploration-exploitation trade-off\n",
    "        exploration_rate_threshold = random.uniform(0, 1)\n",
    "        if exploration_rate_threshold > exploration_rate:\n",
    "            # exploit\n",
    "            action = np.argmax(q_table[state,:]) \n",
    "        else:\n",
    "            # exploreQ Learning builds a Q-table of State-Action values, with dimension (s, a), where s is the number of states and a is the number of actions. Fundamentally, a Q-table maps state and action pairs to a Q-value.\n",
    "            action = env.action_space.sample()\n",
    "\n",
    "        # Take new action\n",
    "        new_state, reward, done, truncated, info = env.step(action)\n",
    "\n",
    "        # Update Q-table for Q(s,a)\n",
    "        q_table[state, action] = q_table[state, action] * (1 - learning_rate) + learning_rate * (reward + discount_rate * np.max(q_table[new_state]))\n",
    "\n",
    "        # Transition to new state\n",
    "        state = new_state\n",
    "        rewards_current_episode += reward\n",
    "        if done == True:\n",
    "            break\n",
    "\n",
    "    # Exploration rate decay\n",
    "    exploration_rate = min_exploration_rate + (max_exploration_rate - min_exploration_rate) * np.exp(-exploration_decay_rate*episode)\n",
    "\n",
    "    rewards_all_episodes.append(rewards_current_episode)\n",
    "\n"
   ]
  },
  {
   "cell_type": "code",
   "execution_count": 21,
   "metadata": {},
   "outputs": [
    {
     "name": "stdout",
     "output_type": "stream",
     "text": [
      "********Average reward per thousand episodes********\n",
      "\n",
      "1000 :  0.05000000000000004\n",
      "2000 :  0.23600000000000018\n",
      "3000 :  0.4090000000000003\n",
      "4000 :  0.5500000000000004\n",
      "5000 :  0.6400000000000005\n",
      "6000 :  0.6590000000000005\n",
      "7000 :  0.6820000000000005\n",
      "8000 :  0.6780000000000005\n",
      "9000 :  0.6750000000000005\n",
      "10000 :  0.6890000000000005\n"
     ]
    }
   ],
   "source": [
    "# Calculate and print the average reward per thousand episodes\n",
    "rewards_per_thousand_episodes = np.split(np.array(rewards_all_episodes),num_episodes/1000)\n",
    "avg_rewards_per_thousand_episodes = []\n",
    "count = 1000\n",
    "\n",
    "print(\"********Average reward per thousand episodes********\\n\")\n",
    "for r in rewards_per_thousand_episodes:\n",
    "    print(count, \": \", str(sum(r/1000)))\n",
    "    avg_rewards_per_thousand_episodes.append(sum(r/1000))\n",
    "    count += 1000"
   ]
  },
  {
   "cell_type": "code",
   "execution_count": 22,
   "metadata": {},
   "outputs": [
    {
     "data": {
      "image/png": "[encoded data removed]",
      "text/plain": [
       "<Figure size 640x480 with 1 Axes>"
      ]
     },
     "metadata": {},
     "output_type": "display_data"
    }
   ],
   "source": [
    "plt.plot(np.arange(1000, 10001, 1000), avg_rewards_per_thousand_episodes)\n",
    "plt.title(\"Frozen Lake\")\n",
    "plt.xlabel(\"Iteration\")\n",
    "plt.ylabel(\"Average reward\")\n",
    "plt.show()"
   ]
  },
  {
   "cell_type": "code",
   "execution_count": 23,
   "metadata": {},
   "outputs": [
    {
     "name": "stdout",
     "output_type": "stream",
     "text": [
      "\n",
      "\n",
      "********Q-table********\n",
      "\n",
      "[[0.55480722 0.50962274 0.50599499 0.50381004]\n",
      " [0.39926224 0.24555629 0.311688   0.49511601]\n",
      " [0.42592156 0.42123309 0.37969445 0.4676182 ]\n",
      " [0.25035654 0.31533902 0.29104107 0.45357346]\n",
      " [0.57862206 0.4221483  0.51616718 0.27661262]\n",
      " [0.         0.         0.         0.        ]\n",
      " [0.43574771 0.09163483 0.21165806 0.14218332]\n",
      " [0.         0.         0.         0.        ]\n",
      " [0.3467503  0.46644684 0.43745332 0.60760972]\n",
      " [0.51655379 0.66620714 0.49473279 0.38122808]\n",
      " [0.6700661  0.40365234 0.45878452 0.42758493]\n",
      " [0.         0.         0.         0.        ]\n",
      " [0.         0.         0.         0.        ]\n",
      " [0.36163149 0.3039219  0.73702214 0.44149354]\n",
      " [0.73962453 0.86709582 0.7321464  0.7960311 ]\n",
      " [0.         0.         0.         0.        ]]\n"
     ]
    }
   ],
   "source": [
    "# Print updated Q-table\n",
    "print(\"\\n\\n********Q-table********\\n\")\n",
    "print(q_table)"
   ]
  },
  {
   "cell_type": "code",
   "execution_count": 24,
   "metadata": {},
   "outputs": [
    {
     "name": "stdout",
     "output_type": "stream",
     "text": [
      "****You reached the goal!****\n"
     ]
    }
   ],
   "source": [
    "# watch the trained agent play the game\n",
    "env = gym.make('FrozenLake-v1', render_mode='human')\n",
    "for episode in range(3):\n",
    "    state = env.reset()[0]\n",
    "    done = False\n",
    "    print(\"*****EPISODE \", episode+1, \"*****\\n\\n\\n\\n\")\n",
    "    time.sleep(1)\n",
    "    for step in range(max_steps_per_episode):        \n",
    "        clear_output(wait=True)\n",
    "        env.render()\n",
    "        action = np.argmax(q_table[state,:])        \n",
    "        new_state, reward, done, truncated, info = env.step(action)\n",
    "        if done:\n",
    "            clear_output(wait=True)\n",
    "            env.render()\n",
    "            if reward == 1:\n",
    "                print(\"****You reached the goal!****\")\n",
    "                time.sleep(1)\n",
    "            else:\n",
    "                print(\"****You fell through a hole!****\")\n",
    "                time.sleep(1)\n",
    "                clear_output(wait=True)\n",
    "            break\n",
    "        state = new_state\n",
    "env.close()"
   ]
  }
 ],
 "metadata": {
  "kernelspec": {
   "display_name": "Python 3",
   "language": "python",
   "name": "python3"
  },
  "language_info": {
   "codemirror_mode": {
    "name": "ipython",
    "version": 3
   },
   "file_extension": ".py",
   "mimetype": "text/x-python",
   "name": "python",
   "nbconvert_exporter": "python",
   "pygments_lexer": "ipython3",
   "version": "3.10.6"
  },
  "orig_nbformat": 4
 },
 "nbformat": 4,
 "nbformat_minor": 2
}
