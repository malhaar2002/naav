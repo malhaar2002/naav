{
 "cells": [
  {
   "cell_type": "code",
   "execution_count": 2,
   "metadata": {},
   "outputs": [],
   "source": [
    "import numpy as np\n",
    "import gym\n",
    "import random\n",
    "import time\n",
    "from custom_env import CustomGridWorldEnv\n",
    "from IPython.display import clear_output\n",
    "import copy\n",
    "import matplotlib.pyplot as plt"
   ]
  },
  {
   "cell_type": "code",
   "execution_count": 3,
   "metadata": {},
   "outputs": [],
   "source": [
    "env = CustomGridWorldEnv(grid_size=5, num_obstacles=5, num_rewards=5, max_steps=50)\n",
    "env_copy = copy.deepcopy(env)\n",
    "\n",
    "action_space_size = env.action_space.n\n",
    "state_space_size = env.observation_space.n"
   ]
  },
  {
   "cell_type": "code",
   "execution_count": 4,
   "metadata": {},
   "outputs": [],
   "source": [
    "# Initialize parameters\n",
    "q_table = np.zeros((state_space_size, action_space_size))\n",
    "num_episodes = 10000\n",
    "max_steps_per_episode = 50 \n",
    "learning_rate = 0.1\n",
    "discount_rate = 0.99\n",
    "exploration_rate = 1\n",
    "max_exploration_rate = 1\n",
    "min_exploration_rate = 0.01\n",
    "exploration_decay_rate = 0.001\n",
    "\n",
    "rewards_all_episodes = []"
   ]
  },
  {
   "cell_type": "code",
   "execution_count": 5,
   "metadata": {},
   "outputs": [],
   "source": [
    "for episode in range(num_episodes):\n",
    "    # Initialize new episode params\n",
    "    state = env.reset()\n",
    "    done = False\n",
    "    rewards_current_episode = 0\n",
    "\n",
    "    for step in range(max_steps_per_episode):\n",
    "        # Exploration-exploitation trade-off\n",
    "        exploration_rate_threshold = random.uniform(0, 1)\n",
    "        if exploration_rate_threshold > exploration_rate:\n",
    "            # Exploit\n",
    "            action = np.argmax(q_table[state])\n",
    "        else:\n",
    "            # Explore\n",
    "            action = env.action_space.sample()\n",
    "\n",
    "        # Take a new action\n",
    "        new_state, reward, done = env.step(action)\n",
    "\n",
    "        # Update Q-table for Q(s,a)\n",
    "        q_table[state][action] = q_table[state][action] * (1 - learning_rate) + learning_rate * (reward + discount_rate * np.max(q_table[new_state]))\n",
    "\n",
    "        # Transition to new state\n",
    "        state = new_state\n",
    "        rewards_current_episode += reward\n",
    "        if done:\n",
    "            break\n",
    "\n",
    "    # Exploration rate decay\n",
    "    exploration_rate = min_exploration_rate + \\\n",
    "        (max_exploration_rate - min_exploration_rate) * \\\n",
    "        np.exp(-exploration_decay_rate * episode)\n",
    "\n",
    "    rewards_all_episodes.append(rewards_current_episode)"
   ]
  },
  {
   "cell_type": "code",
   "execution_count": 6,
   "metadata": {},
   "outputs": [
    {
     "name": "stdout",
     "output_type": "stream",
     "text": [
      "********Average reward per thousand episodes********\n",
      "\n",
      "1000 :  -4.708999999999989\n",
      "2000 :  -0.14799999999999996\n",
      "3000 :  1.0760000000000003\n",
      "4000 :  1.1809999999999983\n",
      "5000 :  1.365999999999996\n",
      "6000 :  1.0400000000000003\n",
      "7000 :  0.8000000000000006\n",
      "8000 :  0.6910000000000007\n",
      "9000 :  0.5410000000000005\n",
      "10000 :  0.11900000000000036\n"
     ]
    }
   ],
   "source": [
    "# Calculate and print the average reward per thousand episodes\n",
    "rewards_per_thousand_episodes = np.split(np.array(rewards_all_episodes),num_episodes/1000)\n",
    "avg_rewards_per_thousand_episodes = []\n",
    "count = 1000\n",
    "\n",
    "print(\"********Average reward per thousand episodes********\\n\")\n",
    "for r in rewards_per_thousand_episodes:\n",
    "    avg_reward = sum(r/1000)\n",
    "    print(count, \": \", str(avg_reward))\n",
    "    avg_rewards_per_thousand_episodes.append(avg_reward)\n",
    "    count += 1000"
   ]
  },
  {
   "cell_type": "code",
   "execution_count": 7,
   "metadata": {},
   "outputs": [
    {
     "data": {
      "image/png": "[encoded data removed]",
      "text/plain": [
       "<Figure size 640x480 with 1 Axes>"
      ]
     },
     "metadata": {},
     "output_type": "display_data"
    }
   ],
   "source": [
    "plt.plot(np.arange(1000, 10001, 1000), avg_rewards_per_thousand_episodes)\n",
    "plt.title(\"Our Environment\")\n",
    "plt.xlabel(\"Iteration\")\n",
    "plt.ylabel(\"Average reward\")\n",
    "plt.show()"
   ]
  },
  {
   "cell_type": "code",
   "execution_count": 8,
   "metadata": {},
   "outputs": [
    {
     "name": "stdout",
     "output_type": "stream",
     "text": [
      "\n",
      "\n",
      "********Q-table********\n",
      "\n",
      "[[-0.47368005 -0.46160252 -0.46645027  0.63291433]\n",
      " [-0.60570068  0.55911977 -0.53348502 -0.42792265]\n",
      " [-0.44729027 -0.10132351 -0.25125843 -0.28371785]\n",
      " [-0.25726998 -0.2048013  -0.26664338 -0.23990177]\n",
      " [-0.53872893 -0.47772068 -0.42803682 -0.46095152]\n",
      " [ 0.77667838 -0.14814557 -0.32218524 -0.1872599 ]\n",
      " [-0.15903231 -0.1520389  -0.23209489 -0.05744796]\n",
      " [-0.26832456 -0.27104219 -0.05980232 -0.23687849]\n",
      " [-0.29665303 -0.29073365 -0.18628733 -0.35364293]\n",
      " [-0.59108425 -0.55799975 -0.20672246 -0.57444555]\n",
      " [ 0.02698672 -0.46022084 -0.47954053 -0.4712963 ]\n",
      " [-0.28109435 -0.28815108 -0.14245851 -0.27663058]\n",
      " [-0.43412751 -0.01034481 -0.44372732 -0.46080618]\n",
      " [ 0.10299182 -0.04048315 -0.26584347 -0.2741392 ]\n",
      " [-0.52981717 -0.469633   -0.10193418 -0.50705575]\n",
      " [-0.59595187 -0.50606164 -0.6058784  -0.54057303]\n",
      " [-0.59834524 -0.65058966 -0.64938098 -0.53459583]\n",
      " [-0.41703664 -0.17001018 -0.44292831 -0.39581309]\n",
      " [-0.31016306 -0.34522063 -0.27315903  0.08332878]\n",
      " [ 0.23829895 -0.4529276  -0.37415791 -0.40543778]\n",
      " [-0.31479195 -0.31273549 -0.40625287  0.00572586]\n",
      " [-0.39796179 -0.4057718  -0.34204444 -0.12528207]\n",
      " [-0.30795539 -0.47360399 -0.3892306  -0.14210495]\n",
      " [-0.14623101 -0.43020685 -0.41005541 -0.41376695]\n",
      " [ 0.34435105 -0.50587633 -0.50995753 -0.51949546]]\n"
     ]
    }
   ],
   "source": [
    "# Print updated Q-table\n",
    "print(\"\\n\\n********Q-table********\\n\")\n",
    "print(q_table)"
   ]
  }
 ],
 "metadata": {
  "kernelspec": {
   "display_name": "Python 3",
   "language": "python",
   "name": "python3"
  },
  "language_info": {
   "codemirror_mode": {
    "name": "ipython",
    "version": 3
   },
   "file_extension": ".py",
   "mimetype": "text/x-python",
   "name": "python",
   "nbconvert_exporter": "python",
   "pygments_lexer": "ipython3",
   "version": "3.10.6"
  },
  "orig_nbformat": 4
 },
 "nbformat": 4,
 "nbformat_minor": 2
}
